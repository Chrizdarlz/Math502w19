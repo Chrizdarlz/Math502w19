{
 "cells": [
  {
   "cell_type": "markdown",
   "metadata": {},
   "source": [
    "# <center> Math 502, Winter 2019 </center>\n",
    "\n",
    "## <center> Instructor: M. Lamoureux </center>\n",
    "\n",
    "## <center> Lecture 1 </center>"
   ]
  },
  {
   "cell_type": "markdown",
   "metadata": {},
   "source": [
    "[Course Outline](MATH_502_W19_Outline.jpg)\n",
    "\n"
   ]
  },
  {
   "cell_type": "markdown",
   "metadata": {},
   "source": [
    "[Course Syllabus](MATH_502_syllabus.png)"
   ]
  },
  {
   "cell_type": "markdown",
   "metadata": {},
   "source": [
    "## Summary\n",
    "\n",
    "This course is about mathematical modelling for industrial problems. \n",
    "\n",
    "The idea is to use your skills in logic, calculus, differential equations, linear algebra, and more, to address problems that come up in industrial settings.\n",
    "\n",
    "We will also explore standard software tools that you can use for mathematical modelling. Rather than writing the tools ourselves, from scratch, we will try to make use of industry standard tools. "
   ]
  },
  {
   "cell_type": "markdown",
   "metadata": {},
   "source": [
    "## What kind of modelling?\n",
    "\n",
    "Here is a quick video of some neat science gadgets. Can we develop the mathematical models to explore these gadgets, design some of our own?"
   ]
  },
  {
   "cell_type": "markdown",
   "metadata": {},
   "source": [
    "%%html\n",
    "<iframe width=\"600\"  src=\"https://www.youtube.com/embed/wcKyq-e-Soo\" frameborder=\"0\" allow=\"autoplay; encrypted-media\" allowfullscreen></iframe>\n",
    "\n",
    "\n"
   ]
  },
  {
   "cell_type": "markdown",
   "metadata": {},
   "source": [
    "[Getting to know you](Getting2KnowYou.ipynb)"
   ]
  },
  {
   "cell_type": "markdown",
   "metadata": {},
   "source": [
    "## Demos of some software tools:\n",
    "\n",
    "[ucalgary.syzygy.ca](https://ucalgary.syzygy.ca)\n",
    "\n",
    "[intro.syzygy.ca](http://intro.syzygy.ca)\n",
    "\n",
    "[github](https://github.com/mlamoureux)\n",
    "\n",
    "matlab"
   ]
  },
  {
   "cell_type": "markdown",
   "metadata": {},
   "source": [
    "## To do, over the weekend\n",
    "\n",
    "- get yourself a syzygy account (use U of C login info)\n",
    "- get yourself a github account (free!)\n",
    "- read a bit about how to use syzygy"
   ]
  },
  {
   "cell_type": "code",
   "execution_count": null,
   "metadata": {},
   "outputs": [],
   "source": []
  }
 ],
 "metadata": {
  "kernelspec": {
   "display_name": "Python 3",
   "language": "python",
   "name": "python3"
  },
  "language_info": {
   "codemirror_mode": {
    "name": "ipython",
    "version": 3
   },
   "file_extension": ".py",
   "mimetype": "text/x-python",
   "name": "python",
   "nbconvert_exporter": "python",
   "pygments_lexer": "ipython3",
   "version": "3.7.0"
  }
 },
 "nbformat": 4,
 "nbformat_minor": 2
}
