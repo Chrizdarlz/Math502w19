{
 "cells": [
  {
   "cell_type": "markdown",
   "metadata": {},
   "source": [
    "# Math 502\n",
    "\n",
    "## Lecture 3 - January 17.\n",
    "\n",
    "### M. Lamoureux"
   ]
  },
  {
   "cell_type": "markdown",
   "metadata": {},
   "source": [
    "### Summary\n",
    "\n",
    "Today's lecture is a quick introduction to Python. Our goal is to get enough code to produce some graphs of the traffic flow model that we deveped in the last lecture.\n",
    "\n",
    "The key is that we want to plot a bump function that looks something like\n",
    "$$ f(x - v*t) $$\n",
    "or perhaps\n",
    "$$ f(S(x)*x - t)$$\n",
    "where the function $S(x)$ is the antiderivative of the \"slowness\" function, which is the reciprocal of velocity.\n",
    "\n",
    "Maybe that is a bit too much detail. The point is, we want to plot some kind of a bump function that represents the density of cars along a roadway, and see how it changes as time advances.\n",
    "\n",
    "Thus, we need to figure out:\n",
    "- how to plot functions\n",
    "- how to define functions\n",
    "- how to make functions that change in response to a parameter (time $t$)"
   ]
  },
  {
   "cell_type": "markdown",
   "metadata": {},
   "source": [
    "### Basic Python\n",
    "\n",
    "Python can do simple arithmetic with integers and floating point numbers."
   ]
  },
  {
   "cell_type": "code",
   "execution_count": 1,
   "metadata": {},
   "outputs": [
    {
     "data": {
      "text/plain": [
       "4"
      ]
     },
     "execution_count": 1,
     "metadata": {},
     "output_type": "execute_result"
    }
   ],
   "source": [
    "2+2"
   ]
  },
  {
   "cell_type": "code",
   "execution_count": 2,
   "metadata": {},
   "outputs": [
    {
     "data": {
      "text/plain": [
       "3.375"
      ]
     },
     "execution_count": 2,
     "metadata": {},
     "output_type": "execute_result"
    }
   ],
   "source": [
    "2+ 3/2 - 1/8"
   ]
  },
  {
   "cell_type": "markdown",
   "metadata": {},
   "source": [
    "Remember, you need to click on a cell and type \"Shift-return\" in order to make Python do anything. \n",
    "\n",
    "Try it. Enter some formula in the cell below, and hit \"Shift-return\" to make it calculate."
   ]
  },
  {
   "cell_type": "code",
   "execution_count": null,
   "metadata": {},
   "outputs": [],
   "source": []
  },
  {
   "cell_type": "markdown",
   "metadata": {},
   "source": [
    "### Variables\n",
    "\n",
    "You can name a variable (like x, y, or myNamedVariable) by setting it equal to some number. (And hit Shift-return.)"
   ]
  },
  {
   "cell_type": "code",
   "execution_count": 3,
   "metadata": {},
   "outputs": [],
   "source": [
    "x=2\n",
    "y=3.5\n",
    "myNamedVariable = 234.5"
   ]
  },
  {
   "cell_type": "markdown",
   "metadata": {},
   "source": [
    "You can then use these variables in a formula, as follows:"
   ]
  },
  {
   "cell_type": "code",
   "execution_count": 4,
   "metadata": {},
   "outputs": [
    {
     "data": {
      "text/plain": [
       "2.014925373134328"
      ]
     },
     "execution_count": 4,
     "metadata": {},
     "output_type": "execute_result"
    }
   ],
   "source": [
    "x + y/myNamedVariable"
   ]
  },
  {
   "cell_type": "code",
   "execution_count": null,
   "metadata": {},
   "outputs": [],
   "source": []
  },
  {
   "cell_type": "markdown",
   "metadata": {},
   "source": [
    "### Strings\n",
    "\n",
    "Strings are another data type, used to store words or other collections of letter. You can set variables equal to a string, then do a calculation.\n",
    "\n",
    "Adding two strings just concatenates them into a longer string."
   ]
  },
  {
   "cell_type": "code",
   "execution_count": 5,
   "metadata": {},
   "outputs": [
    {
     "data": {
      "text/plain": [
       "'HelloWorld'"
      ]
     },
     "execution_count": 5,
     "metadata": {},
     "output_type": "execute_result"
    }
   ],
   "source": [
    "x = \"Hello\"\n",
    "y = \"World\"\n",
    "x+y"
   ]
  },
  {
   "cell_type": "markdown",
   "metadata": {},
   "source": [
    "### Lists\n",
    "\n",
    "A list is just a collection of other data stuff. It can contain numbers, string, even other lists. You can assign them to variables as well. \n",
    "\n",
    "Adding two lists just concatenates them."
   ]
  },
  {
   "cell_type": "code",
   "execution_count": 7,
   "metadata": {},
   "outputs": [
    {
     "data": {
      "text/plain": [
       "[1, 1, 2, 3, 5, 8, 13, 'one', 'one', 'two', 'three', 'five', 'eight']"
      ]
     },
     "execution_count": 7,
     "metadata": {},
     "output_type": "execute_result"
    }
   ],
   "source": [
    "aList = [1,1,2,3,5,8,13]\n",
    "bList = ['one','one','two','three','five','eight']\n",
    "aList+bList"
   ]
  },
  {
   "cell_type": "markdown",
   "metadata": {},
   "source": [
    "You can access a particular element of the list by using an index."
   ]
  },
  {
   "cell_type": "code",
   "execution_count": 14,
   "metadata": {},
   "outputs": [
    {
     "data": {
      "text/plain": [
       "'one'"
      ]
     },
     "execution_count": 14,
     "metadata": {},
     "output_type": "execute_result"
    }
   ],
   "source": [
    "bList[0]"
   ]
  },
  {
   "cell_type": "code",
   "execution_count": 15,
   "metadata": {},
   "outputs": [
    {
     "data": {
      "text/plain": [
       "('one', 'one', 'two')"
      ]
     },
     "execution_count": 15,
     "metadata": {},
     "output_type": "execute_result"
    }
   ],
   "source": [
    "bList[0],bList[1],bList[2]"
   ]
  },
  {
   "cell_type": "markdown",
   "metadata": {},
   "source": [
    "## For loops\n",
    "\n",
    "A for loop is a control structure that repeats some action.\n",
    "\n",
    "The \"syntax\" is important. Note the colon at the end of the first statement, and there has to be an indentation in the following lines of the code. "
   ]
  },
  {
   "cell_type": "code",
   "execution_count": 8,
   "metadata": {},
   "outputs": [
    {
     "name": "stdout",
     "output_type": "stream",
     "text": [
      "1\n",
      "2\n",
      "3\n",
      "4\n",
      "5\n"
     ]
    }
   ],
   "source": [
    "for i in [1,2,3,4,5]:\n",
    "    print(i)"
   ]
  },
  {
   "cell_type": "markdown",
   "metadata": {},
   "source": [
    "Use the **range** function to make a longer list of numbers for the loop. Notice where the range function starts and stops!"
   ]
  },
  {
   "cell_type": "code",
   "execution_count": 10,
   "metadata": {},
   "outputs": [
    {
     "name": "stdout",
     "output_type": "stream",
     "text": [
      "1\n",
      "2\n",
      "3\n",
      "4\n",
      "5\n",
      "6\n",
      "7\n",
      "8\n",
      "9\n"
     ]
    }
   ],
   "source": [
    "for i in range(1,10):\n",
    "    print(i)"
   ]
  },
  {
   "cell_type": "code",
   "execution_count": 16,
   "metadata": {},
   "outputs": [
    {
     "name": "stdout",
     "output_type": "stream",
     "text": [
      "1 1 1\n",
      "2 4 8\n",
      "3 9 27\n",
      "4 16 64\n",
      "5 25 125\n",
      "6 36 216\n",
      "7 49 343\n",
      "8 64 512\n",
      "9 81 729\n"
     ]
    }
   ],
   "source": [
    "for i in range(1,10):\n",
    "    print(i,i**2,i**3)"
   ]
  },
  {
   "cell_type": "markdown",
   "metadata": {},
   "source": [
    "## Plotting\n",
    "\n",
    "To plot in Python, you have to import some functions. \n",
    "\n",
    "There are various ways to import functions. We will do a lazy way here, and later in the course learn better (safer) ways.\n",
    "\n",
    "We are using **matplotlib** which is a lot like Matlab plotting. \n",
    "\n",
    "The following cell will load in all the functions. (DOn't forget to do Shift-return to make Python run the code in that cell.)"
   ]
  },
  {
   "cell_type": "code",
   "execution_count": 17,
   "metadata": {},
   "outputs": [],
   "source": [
    "from matplotlib.pyplot import *"
   ]
  },
  {
   "cell_type": "code",
   "execution_count": 19,
   "metadata": {},
   "outputs": [
    {
     "data": {
      "text/plain": [
       "[<matplotlib.lines.Line2D at 0x7f4afd81c710>]"
      ]
     },
     "execution_count": 19,
     "metadata": {},
     "output_type": "execute_result"
    },
    {
     "data": {
      "image/png": "[encoded data removed]",
      "text/plain": [
       "<Figure size 432x288 with 1 Axes>"
      ]
     },
     "metadata": {
      "needs_background": "light"
     },
     "output_type": "display_data"
    }
   ],
   "source": [
    "## Here is a plot\n",
    "plot([1,2,3,5,7])"
   ]
  },
  {
   "cell_type": "markdown",
   "metadata": {},
   "source": [
    "I don't like that funny line of text about the plot. You can get rid of it by adding a semicolon to the end of the plot statement. "
   ]
  },
  {
   "cell_type": "code",
   "execution_count": 20,
   "metadata": {},
   "outputs": [
    {
     "data": {
      "image/png": "[encoded data removed]",
      "text/plain": [
       "<Figure size 432x288 with 1 Axes>"
      ]
     },
     "metadata": {
      "needs_background": "light"
     },
     "output_type": "display_data"
    }
   ],
   "source": [
    "plot([1,2,3,5,7]);"
   ]
  },
  {
   "cell_type": "markdown",
   "metadata": {},
   "source": [
    "You can also plot x and y values, by putting in a list of x values, and y values, as follows: (Note the two lists have to have the same length.)"
   ]
  },
  {
   "cell_type": "code",
   "execution_count": 22,
   "metadata": {},
   "outputs": [
    {
     "data": {
      "image/png": "[encoded data removed]",
      "text/plain": [
       "<Figure size 432x288 with 1 Axes>"
      ]
     },
     "metadata": {
      "needs_background": "light"
     },
     "output_type": "display_data"
    }
   ],
   "source": [
    "plot([0,1,2,3,4,5],[0,1,4,9,16,25]);"
   ]
  },
  {
   "cell_type": "markdown",
   "metadata": {},
   "source": [
    "You can plot points instead of curves by adding the parameter 'o'\n",
    "\n",
    "You can get circles with connecting lines with 'o-'"
   ]
  },
  {
   "cell_type": "code",
   "execution_count": 24,
   "metadata": {},
   "outputs": [
    {
     "data": {
      "image/png": "[encoded data removed]",
      "text/plain": [
       "<Figure size 432x288 with 1 Axes>"
      ]
     },
     "metadata": {
      "needs_background": "light"
     },
     "output_type": "display_data"
    }
   ],
   "source": [
    "plot([0,1,2,3,4,5],[0,1,4,9,16,25],'o');"
   ]
  },
  {
   "cell_type": "code",
   "execution_count": 25,
   "metadata": {},
   "outputs": [
    {
     "data": {
      "image/png": "[encoded data removed]",
      "text/plain": [
       "<Figure size 432x288 with 1 Axes>"
      ]
     },
     "metadata": {
      "needs_background": "light"
     },
     "output_type": "display_data"
    }
   ],
   "source": [
    "plot([0,1,2,3,4,5],[0,1,4,9,16,25],'o-');"
   ]
  },
  {
   "cell_type": "markdown",
   "metadata": {},
   "source": [
    "## Numerical Python\n",
    "\n",
    "To start doing some real math, we need functions like sine and cosine, and the ability to work with vectors and matrices. We use a package called Numerical Python to do this. \n",
    "\n",
    "We load it in, using the lazy way, as follows:"
   ]
  },
  {
   "cell_type": "code",
   "execution_count": 26,
   "metadata": {},
   "outputs": [],
   "source": [
    "from numpy import *"
   ]
  },
  {
   "cell_type": "markdown",
   "metadata": {},
   "source": [
    "## Plotting functions\n",
    "We can turn a list of numbers into a vector (or array) by using the array command, which comes from numpy. We can then square everything in that array, and plot the result.\n",
    "\n",
    "Here I made the plots lines green, for fun. Do you see how I did that?"
   ]
  },
  {
   "cell_type": "code",
   "execution_count": 27,
   "metadata": {},
   "outputs": [
    {
     "data": {
      "image/png": "[encoded data removed]",
      "text/plain": [
       "<Figure size 432x288 with 1 Axes>"
      ]
     },
     "metadata": {
      "needs_background": "light"
     },
     "output_type": "display_data"
    }
   ],
   "source": [
    "x=array([0,1,2,3,4,5,6,7])\n",
    "y = x**2\n",
    "plot(x,y,'-*g');"
   ]
  },
  {
   "cell_type": "markdown",
   "metadata": {},
   "source": [
    "## More on plotting\n",
    "\n",
    "The plot command just takes a list of numbers, x and y values, and draws a curve by connection the points.\n",
    "\n",
    "To plot a function, we should make a list of numbers for x values, then apply the function to get the y values. Then we can plot. \n",
    "\n",
    "Here we plot a piece of the sine function."
   ]
  },
  {
   "cell_type": "code",
   "execution_count": 32,
   "metadata": {},
   "outputs": [
    {
     "data": {
      "image/png": "[encoded data removed]",
      "text/plain": [
       "<Figure size 432x288 with 1 Axes>"
      ]
     },
     "metadata": {
      "needs_background": "light"
     },
     "output_type": "display_data"
    }
   ],
   "source": [
    "x =array([0.0,0.1,0.2,0.3,0.4,0.5,0.6,0.7,0.8,0.9,1.0])\n",
    "y= sin(x)\n",
    "plot(x,y);"
   ]
  },
  {
   "cell_type": "markdown",
   "metadata": {},
   "source": [
    "A better way to get a list of numbers is to use the **linspace** which comes from numpy.\n",
    "\n",
    "Here we get a list of numbers between 0 and 1, linearly spaced. By default, we get 50 numbers."
   ]
  },
  {
   "cell_type": "code",
   "execution_count": 34,
   "metadata": {},
   "outputs": [
    {
     "data": {
      "text/plain": [
       "array([0.        , 0.02040816, 0.04081633, 0.06122449, 0.08163265,\n",
       "       0.10204082, 0.12244898, 0.14285714, 0.16326531, 0.18367347,\n",
       "       0.20408163, 0.2244898 , 0.24489796, 0.26530612, 0.28571429,\n",
       "       0.30612245, 0.32653061, 0.34693878, 0.36734694, 0.3877551 ,\n",
       "       0.40816327, 0.42857143, 0.44897959, 0.46938776, 0.48979592,\n",
       "       0.51020408, 0.53061224, 0.55102041, 0.57142857, 0.59183673,\n",
       "       0.6122449 , 0.63265306, 0.65306122, 0.67346939, 0.69387755,\n",
       "       0.71428571, 0.73469388, 0.75510204, 0.7755102 , 0.79591837,\n",
       "       0.81632653, 0.83673469, 0.85714286, 0.87755102, 0.89795918,\n",
       "       0.91836735, 0.93877551, 0.95918367, 0.97959184, 1.        ])"
      ]
     },
     "execution_count": 34,
     "metadata": {},
     "output_type": "execute_result"
    }
   ],
   "source": [
    "linspace(0,1)"
   ]
  },
  {
   "cell_type": "code",
   "execution_count": 35,
   "metadata": {},
   "outputs": [
    {
     "data": {
      "text/plain": [
       "array([0.        , 0.05263158, 0.10526316, 0.15789474, 0.21052632,\n",
       "       0.26315789, 0.31578947, 0.36842105, 0.42105263, 0.47368421,\n",
       "       0.52631579, 0.57894737, 0.63157895, 0.68421053, 0.73684211,\n",
       "       0.78947368, 0.84210526, 0.89473684, 0.94736842, 1.        ])"
      ]
     },
     "execution_count": 35,
     "metadata": {},
     "output_type": "execute_result"
    }
   ],
   "source": [
    "## Here is a shorter list, with only twenty numbers.\n",
    "linspace(0,1,20)"
   ]
  },
  {
   "cell_type": "code",
   "execution_count": 36,
   "metadata": {},
   "outputs": [
    {
     "data": {
      "image/png": "[encoded data removed]",
      "text/plain": [
       "<Figure size 432x288 with 1 Axes>"
      ]
     },
     "metadata": {
      "needs_background": "light"
     },
     "output_type": "display_data"
    }
   ],
   "source": [
    "## We use this to plot the sine function\n",
    "x=linspace(0,6,20)\n",
    "y=sin(x)\n",
    "plot(x,y,'o-');\n"
   ]
  },
  {
   "cell_type": "markdown",
   "metadata": {},
   "source": [
    "## Defining functions\n",
    "\n",
    "To do our math, and in particular our car traffic problem, we want to define our own function.\n",
    "\n",
    "Here we define a bump function. We call it **bump**. Notice the syntax. We need the keyword **def** and we need a colon at the end of the first line. The function body is indented. And we return a value.\n",
    "\n",
    "The width parameter adjusts the width of the bump. For now we just set it to one. \n",
    "\n",
    "We test the definition by calling the function at a few values."
   ]
  },
  {
   "cell_type": "code",
   "execution_count": 40,
   "metadata": {},
   "outputs": [],
   "source": [
    "def bump(x):\n",
    "    width =1\n",
    "    return exp((-x**2)/(width**2))"
   ]
  },
  {
   "cell_type": "code",
   "execution_count": 41,
   "metadata": {},
   "outputs": [
    {
     "data": {
      "text/plain": [
       "1.0"
      ]
     },
     "execution_count": 41,
     "metadata": {},
     "output_type": "execute_result"
    }
   ],
   "source": [
    "bump(0)"
   ]
  },
  {
   "cell_type": "code",
   "execution_count": 42,
   "metadata": {},
   "outputs": [
    {
     "data": {
      "text/plain": [
       "0.36787944117144233"
      ]
     },
     "execution_count": 42,
     "metadata": {},
     "output_type": "execute_result"
    }
   ],
   "source": [
    "bump(1)"
   ]
  },
  {
   "cell_type": "markdown",
   "metadata": {},
   "source": [
    "Let's plot our bump function, like we plotted the sine function."
   ]
  },
  {
   "cell_type": "code",
   "execution_count": 43,
   "metadata": {},
   "outputs": [
    {
     "data": {
      "image/png": "[encoded data removed]",
      "text/plain": [
       "<Figure size 432x288 with 1 Axes>"
      ]
     },
     "metadata": {
      "needs_background": "light"
     },
     "output_type": "display_data"
    }
   ],
   "source": [
    "x = linspace(-5,5)\n",
    "plot(x,bump(x));"
   ]
  },
  {
   "cell_type": "markdown",
   "metadata": {},
   "source": [
    "## The traffic flow function\n",
    "\n",
    "Recall from last lecture, that the traffic flow in constant velocity has the density function look something like this:\n",
    "$$ \\rho(x,t) = f(x-vt).$$\n",
    "\n",
    "We will use the bump function for $f$ and set velocity to 2. And plot a few copies of the bump function, at different times."
   ]
  },
  {
   "cell_type": "code",
   "execution_count": 44,
   "metadata": {},
   "outputs": [
    {
     "data": {
      "image/png": "[encoded data removed]",
      "text/plain": [
       "<Figure size 432x288 with 1 Axes>"
      ]
     },
     "metadata": {
      "needs_background": "light"
     },
     "output_type": "display_data"
    }
   ],
   "source": [
    "x = linspace(-5,5)\n",
    "v = 2\n",
    "plot(x,bump(x),x,bump(x-v*1),x,bump(x-v*2));"
   ]
  },
  {
   "cell_type": "markdown",
   "metadata": {},
   "source": [
    "## Interactive plots\n",
    "\n",
    "We can get some interactivity in the plots by loading in some iPython widgets. "
   ]
  },
  {
   "cell_type": "code",
   "execution_count": 45,
   "metadata": {},
   "outputs": [],
   "source": [
    "from ipywidgets import interact"
   ]
  },
  {
   "cell_type": "markdown",
   "metadata": {},
   "source": [
    "To start, we need to define a function that does something, depending on the the time parameter. We call the function **update** as it will update the plot as we move the widget.\n",
    "\n",
    "After that, we call the **interact** function to create the widget that controls the plot. Try it out."
   ]
  },
  {
   "cell_type": "code",
   "execution_count": 55,
   "metadata": {},
   "outputs": [],
   "source": [
    "def update(t=0):\n",
    "    v=2\n",
    "    plot(x,bump(x-v*t))"
   ]
  },
  {
   "cell_type": "code",
   "execution_count": 56,
   "metadata": {},
   "outputs": [
    {
     "data": {
      "application/vnd.jupyter.widget-view+json": {
       "model_id": "46ac70feb93248769ff1a052a322f8c5",
       "version_major": 2,
       "version_minor": 0
      },
      "text/plain": [
       "interactive(children=(IntSlider(value=0, description='t', max=5), Output()), _dom_classes=('widget-interact',)…"
      ]
     },
     "metadata": {},
     "output_type": "display_data"
    },
    {
     "data": {
      "text/plain": [
       "<function __main__.update(t=0)>"
      ]
     },
     "execution_count": 56,
     "metadata": {},
     "output_type": "execute_result"
    }
   ],
   "source": [
    "x = linspace(-5,5)\n",
    "interact(update,t=(0,5))"
   ]
  },
  {
   "cell_type": "markdown",
   "metadata": {},
   "source": [
    "Notice in the cell above, the t values are always integers. You can allow floating point values by setting it up like this. The difference is the range for t is specified as floating point numbers, not integers.\n",
    "\n",
    "I also added a semicolon after the interact statement, to clean up the output. "
   ]
  },
  {
   "cell_type": "code",
   "execution_count": 57,
   "metadata": {},
   "outputs": [
    {
     "data": {
      "application/vnd.jupyter.widget-view+json": {
       "model_id": "4e2b08e933d6437098ebe3e67ee3f330",
       "version_major": 2,
       "version_minor": 0
      },
      "text/plain": [
       "interactive(children=(FloatSlider(value=0.0, description='t', max=5.0), Output()), _dom_classes=('widget-inter…"
      ]
     },
     "metadata": {},
     "output_type": "display_data"
    }
   ],
   "source": [
    "x = linspace(-5,5)\n",
    "interact(update,t=(0.0,5.0));"
   ]
  },
  {
   "cell_type": "markdown",
   "metadata": {},
   "source": [
    "## Varying the velocity\n",
    "\n",
    "Ahmed suggested we try to vary the velocity as well.\n",
    "\n",
    "Yes, we can do that. We just redefine the update function to take two variables, t and v, and call the interact function with both those parameters.\n",
    "\n",
    "I call it update2 just to have a new, different name. "
   ]
  },
  {
   "cell_type": "code",
   "execution_count": 58,
   "metadata": {},
   "outputs": [
    {
     "data": {
      "application/vnd.jupyter.widget-view+json": {
       "model_id": "7f4626d78c7c424d9984b1c40c0d162c",
       "version_major": 2,
       "version_minor": 0
      },
      "text/plain": [
       "interactive(children=(FloatSlider(value=0.0, description='t', max=5.0), FloatSlider(value=1.0, description='v'…"
      ]
     },
     "metadata": {},
     "output_type": "display_data"
    }
   ],
   "source": [
    "def update2(t=0,v=1):\n",
    "    plot(x,bump(x-v*t))\n",
    "    \n",
    "x = linspace(-5,5)\n",
    "interact(update2,t=(0.0,5.0),v=(0.5,2.0));"
   ]
  },
  {
   "cell_type": "markdown",
   "metadata": {},
   "source": [
    "## Variable velocity case\n",
    "\n",
    "For the case where the velocity $v=v(x)$ changes as a function of position $x$, we know a solution looks something like\n",
    "$$ f(S(x) - t),$$\n",
    "where $S(x)$ is the antiderivative of the slowness function, $s(x) = 1/v(x)$.\n",
    "\n",
    "So $$S(x) = \\int^x \\frac{1}{v(x)} \\, dx.$$"
   ]
  },
  {
   "cell_type": "markdown",
   "metadata": {},
   "source": [
    "Now, of course, if you choose $v(x)$ first, the changes of finding the antiderivative of its reciprocal are pretty slim. A smarter way is to choose $S(x)$ first, and choose it so it is easy to differential.\n",
    "\n",
    "We choose a piecewise linear $S(x)$ so its slope is constant on one side of the origin, and a different constant slope on the other side. \n",
    "\n",
    "We played arount with this in class, and eventually came up with something that had an absolute value in it."
   ]
  },
  {
   "cell_type": "code",
   "execution_count": 59,
   "metadata": {},
   "outputs": [
    {
     "data": {
      "image/png": "[encoded data removed]",
      "text/plain": [
       "<Figure size 432x288 with 1 Axes>"
      ]
     },
     "metadata": {
      "needs_background": "light"
     },
     "output_type": "display_data"
    }
   ],
   "source": [
    "def S(x):\n",
    "    return abs(x) + 2*x\n",
    "\n",
    "x = linspace(-5,5)\n",
    "plot(x,S(x));"
   ]
  },
  {
   "cell_type": "markdown",
   "metadata": {},
   "source": [
    "## Correction.\n",
    "\n",
    "Now, in class we tried to plot $f(S(x)*x - t)$ and run into some problems. I was curious to see if anyone in the class would catch the problem. \n",
    "\n",
    "One idea was that if $S(x)$ became negative, the $S(x)*x$ would reverse directions on the function argument, and something weird would happen. \n",
    "\n",
    "That is true. We fixed it by adding 5 to the $S(x)$ function. \n",
    "\n",
    "But the real problem is that we should not plot $f(S(x)*x - t)$ but instead we should plot $f(S(x) - t)$. If you analyze it, you can see the first one has the dimensional quantities wrong. $S(x)*x$ has dimension of time x length, so you cannot subtract $gt$ from it. $S(x)$ has dimension of time, so you can subtract $t$ from it. $S(x)*x$\n",
    "\n",
    "You might want to convince yourself that $S(x)$ has dimension of time. (Recall it is the integral, over $x$, of one over velocity.)\n",
    "\n",
    "So here we difine **update3** the right way."
   ]
  },
  {
   "cell_type": "code",
   "execution_count": 60,
   "metadata": {},
   "outputs": [],
   "source": [
    "def update3(t=0):\n",
    "    plot(x,bump(S(x)-t))"
   ]
  },
  {
   "cell_type": "code",
   "execution_count": 63,
   "metadata": {},
   "outputs": [
    {
     "data": {
      "application/vnd.jupyter.widget-view+json": {
       "model_id": "03539fec0c374bb7a312eb59388a2fe7",
       "version_major": 2,
       "version_minor": 0
      },
      "text/plain": [
       "interactive(children=(FloatSlider(value=0.0, description='t', max=5.0, min=-2.0), Output()), _dom_classes=('wi…"
      ]
     },
     "metadata": {},
     "output_type": "display_data"
    }
   ],
   "source": [
    "x = linspace(-5,5,100)\n",
    "interact(update3,t=(-2.0,5.0));"
   ]
  },
  {
   "cell_type": "markdown",
   "metadata": {},
   "source": [
    "Play around with this interactive plot above. You should see some interesting behaviour as the bump moves past zero.\n",
    "\n",
    "However, as Aiden pointed out in class, something is weird. The area under the curve is not preserved, which seems like saying the total mass of cars is not staying constant.\n",
    "\n",
    "Well, that is indeed a problem.  The issue is that what we are plotting above is the **flux** of cars, when we should be plotting density. The formula for density is\n",
    "$$\\rho(x,t) = \\frac{1}{v(x)}q(x,t) = \\frac{1}{v(x)}f(S(x)-t).$$"
   ]
  },
  {
   "cell_type": "markdown",
   "metadata": {},
   "source": [
    "Looking at how we defined $S(x)$ above, it is easy to see that the velocity is one on the left of the origin, and 1/3 on the right of the origin.\n",
    "\n",
    "So we can define velocity as:\n"
   ]
  },
  {
   "cell_type": "code",
   "execution_count": 68,
   "metadata": {},
   "outputs": [
    {
     "data": {
      "image/png": "[encoded data removed]",
      "text/plain": [
       "<Figure size 432x288 with 1 Axes>"
      ]
     },
     "metadata": {
      "needs_background": "light"
     },
     "output_type": "display_data"
    }
   ],
   "source": [
    "def vel(x):\n",
    "    return 2/3 - sign(x)/3\n",
    "\n",
    "##check\n",
    "plot(x,vel(x));"
   ]
  },
  {
   "cell_type": "markdown",
   "metadata": {},
   "source": [
    "Now we can do an interactive plot of car density (not flux). "
   ]
  },
  {
   "cell_type": "code",
   "execution_count": 71,
   "metadata": {},
   "outputs": [
    {
     "data": {
      "application/vnd.jupyter.widget-view+json": {
       "model_id": "e40a6973140b4d06b66c2ca74f139336",
       "version_major": 2,
       "version_minor": 0
      },
      "text/plain": [
       "interactive(children=(FloatSlider(value=0.0, description='t', max=5.0, min=-2.0), Output()), _dom_classes=('wi…"
      ]
     },
     "metadata": {},
     "output_type": "display_data"
    }
   ],
   "source": [
    "def update4(t=0):\n",
    "    plot(x,bump(S(x)-t)/vel(x))\n",
    "    \n",
    "x = linspace(-5,5,100)\n",
    "interact(update4,t=(-2.0,5.0));"
   ]
  },
  {
   "cell_type": "markdown",
   "metadata": {},
   "source": [
    "Now this code works nice. The bump gets bigger as we move to the right, so there is a conservation of mass (of cars). You should notice a big spike as the bump passes through zero. This is because the cars are bunching up as the speed suddenly decreases. Not a good thing in traffic."
   ]
  },
  {
   "cell_type": "markdown",
   "metadata": {},
   "source": [
    "## Comments on the code\n",
    "\n",
    "This code is okay, in that we developed it step by step, to understand what is going on.\n",
    "\n",
    "A significant weakness is that the functions $S(x)$ and $vel(x)$ depend on each other in an important way, but we defined them independently, in different parts of the notebook. A naive user (or even us) might change the code one day, and not get them to match correctly.\n",
    "\n",
    "A better idea is to define two constants, $v_{left}, v_{right}$ say, for the velocities on the left and right of the origin, then define functions $S(x), vel(x)$ as items that depend only on the choice of  $v_{left}, v_{right}$. So you would get correct behaviour, even if the values of $v_{left}, v_{righ}t$ are changed."
   ]
  },
  {
   "cell_type": "code",
   "execution_count": null,
   "metadata": {},
   "outputs": [],
   "source": []
  }
 ],
 "metadata": {
  "kernelspec": {
   "display_name": "Python 3",
   "language": "python",
   "name": "python3"
  },
  "language_info": {
   "codemirror_mode": {
    "name": "ipython",
    "version": 3
   },
   "file_extension": ".py",
   "mimetype": "text/x-python",
   "name": "python",
   "nbconvert_exporter": "python",
   "pygments_lexer": "ipython3",
   "version": "3.6.7"
  }
 },
 "nbformat": 4,
 "nbformat_minor": 2
}
