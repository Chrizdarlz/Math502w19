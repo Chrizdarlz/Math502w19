{
 "cells": [
  {
   "cell_type": "markdown",
   "metadata": {
    "collapsed": true
   },
   "source": [
    "# <center> Math 502, Winter 2019 </center>\n",
    "\n",
    "## <center> Instructor: M. Lamoureux </center>\n",
    "\n",
    "## <center> Lecture 2. Tuesday, January 15. </center>\n",
    "\n",
    "## <center> Physical Modellng </center>\n"
   ]
  },
  {
   "cell_type": "markdown",
   "metadata": {},
   "source": [
    "## Doing physics without math\n",
    "\n",
    "It is somewhat amazing that we can understand a lot about a physical problem without doing any mathematical modelling.\n",
    "\n",
    "## Pendulum example\n",
    "\n",
    "Take the problem of a single pendulum, as in the picture below.\n",
    "\n",
    "<img src=\"images/Pendulum.png\" alt=\"a Pendulum image\" width=\"400\"/>\n",
    "<center> A mass suspended from a pivot point forms a pendulum. </center>\n",
    "\n",
    "There are some obvious physical parameters that are important in the pendulum:\n",
    "- the lenght $L$ of the pendulum\n",
    "- the mass $M$ of the weight\n",
    "- the starting angle $A$ when we get the pendulum moving\n",
    "- the period of oscillation $T$\n",
    "\n",
    "After thinking about this for a while, you might also realize that gravity is important too, so we include\n",
    "- the acceleration due to gravity, $g$"
   ]
  },
  {
   "cell_type": "markdown",
   "metadata": {},
   "source": [
    "## Simple questions\n",
    "- Which of these parameters are independent? (freely chosen by us?)\n",
    "- Which are not independent? (Determined by the others)\n",
    "- If we change the indendent parameters, how do the dependent ones change?\n",
    "\n",
    "How do we figure this out? Of course, we can do simple experiments.\n",
    "\n",
    "(Michael will have a pendulum to play with...)"
   ]
  },
  {
   "cell_type": "markdown",
   "metadata": {},
   "source": [
    "## Qualitative questions\n",
    "- if we double length $L$, what happens?\n",
    "- if we double mass $M$, what happens?\n",
    "- if we double angle $A$, what happens?\n",
    "- if we double period $T$, what happens?\n",
    "- if we double gravity $g$, what happens?\n",
    "\n",
    "Hey, how do we double gravity? Can we change the force of gravity?\n"
   ]
  },
  {
   "cell_type": "markdown",
   "metadata": {},
   "source": [
    "## Quantitative questions\n",
    "\n",
    "### Dimensional analysis\n",
    "\n",
    "What are the physical units for these parameters?\n",
    " - $L$\n",
    " - $M$\n",
    " - $A$\n",
    " - $T$\n",
    " - $g$\n",
    "\n",
    "(Try yourself before reading on?)"
   ]
  },
  {
   "cell_type": "markdown",
   "metadata": {},
   "source": [
    "## Driving Physicists Crazy\n",
    "\n",
    "Physicists hate to see a formula like this, for exponential decay over time:\n",
    "$$ A(t) = A(0) e^{-t},$$\n",
    "where $t$ is measured in seconds, say. \n",
    "\n",
    "And it is a problem, because we know exponentials are calculated as a power series\n",
    "$$e^{-t} = 1 - t + \\frac{t^2}{2!} - \\frac{t^3}{3!} + \\cdots,$$\n",
    "so we are adding 1 to seconds to seconds-squared to seconds-cubed, etc. This is mixing differents units together, so makes no physical sense.\n",
    "\n",
    "The right way to express exponential decay is to write\n",
    "$$ A(t) = A(0) e^{-t/\\lambda},$$\n",
    "where $\\lambda$ is a physical parameter measured in units of seconds. It represents the time it takes for the ampliktude to decay to about $37\\%$ of its original value. (Notice that $37\\% \\approx 1/e$)."
   ]
  },
  {
   "cell_type": "markdown",
   "metadata": {},
   "source": [
    "## Quantitative questions\n",
    "\n",
    "### Dimensional analysis\n",
    "\n",
    "What are the physical units for these parameters?\n",
    " - $L$  (meters)\n",
    " - $M$  (kilograms) \n",
    " - $A$  (no units -- radians and degrees are given as a ratio of lenghts)\n",
    " - $T$  (seconds)\n",
    " - $g$  (meters per second squared)\n",
    "\n",
    "Now, the important thing to observe is that \n",
    "- the ratio $g/L$ is in units of one over seconds squared\n",
    "- thus the ratio T^2 g/L$ is dimensionless (no physical units).\n",
    "\n",
    "With \"vigorous hand waving\" (that is, no proof) we conclude that this ratio can only depend on the dimensionless parameter $A$:\n",
    "$$ T^2 g/L = F(A),$$\n",
    "where $F(A)$ is some unknown function of $A$.\n",
    "\n",
    "Or, rewriting, we have\n",
    "$$T = \\sqrt{\\frac{L}{g}}G(A),$$\n",
    "where $G(A)$ is some unknown function (the square root of $F$)."
   ]
  },
  {
   "cell_type": "markdown",
   "metadata": {},
   "source": [
    "## Quantitiative answers\n",
    "\n",
    "1. The period $T$ does NOT depend on the mass $M$ (are you surprised?)\n",
    "2. If you double the length $L$, the period **increases** by $\\sqrt{2}$\n",
    "3. If you double gravity, the period **decreases** by $\\sqrt{1/2}$"
   ]
  },
  {
   "cell_type": "markdown",
   "metadata": {},
   "source": [
    "## Important observations\n",
    "\n",
    "We did not do any mathematical model, and yet we have quantitative answers!\n",
    "\n",
    "We can check our answer with a \"small angle\" approximation to get the ODE\n",
    "$$ my'' + (mg/L)y = 0.$$\n",
    "\n",
    "(Derive the physics in class)\n",
    "\n",
    "The solutions are sines and cosines of the form\n",
    "$$\\sin \\omega t,$$\n",
    "with $\\omega^2 = g/L$.\n",
    "\n",
    "Does that make sense? What formula for $T$ does this give?\n",
    "\n",
    "\n",
    "Incidently, the exact solution for the period (given arbitrary initial angle $A$, no small angle approx) is\n",
    "$$ T = 2\\left(\\frac{2L}{g}\\right)^{1/2} \\int_0^A (\\cos \\theta - \\cos A)^{-1/2} \\, d\\theta.$$\n",
    "\n",
    "(From Bender \"Intro to Ma|th Modeling\", note this is an elliptic integral.)"
   ]
  },
  {
   "cell_type": "markdown",
   "metadata": {},
   "source": [
    "## Mathematical modeling\n",
    "Math modeling is a bit of an art. We want to create a representation of some process that is quantitative, and allows us to do some calculations that produce insight into process. Ideally, the model should be validated by comparing its results with observations of the real process, and indeed we would like to use the model to make predictions about the process that we have not yet observed (but would like to). \n",
    "\n",
    "I would suggest this is a good place to read up on the process of mathematical modeling. Different authors have difference ideas on how this is done, and you might find something out there that really resonates with you.\n",
    "\n",
    "Here is how A.C. Fowler breaks it down, in his book \"Mathematical Model in the Applied Sciences.\"\n",
    "\n",
    "### The procedure of modeling\n",
    "\n",
    "**1.** Problem identification\n",
    "\n",
    "Identify a problem. Something we don't understand, a phenomena that needs an explanation. Try to identify a mechanism that explains the phenomena. \n",
    "\n",
    "**2.** Model formulation\n",
    "\n",
    "Once identified, the mechanism should be formulated mathematically. Identify variable, and their dependences, and formulate as systems of equations (with boundary conditions, as well as evolution equations). Often we rely on physical laws (e.g. conservation of mass, of energy), empirical laws (e.g. friction), or hypothesized laws (e.g. rates of predation depends on the product of the number of predators time the number of prey). Simpler models are often more useful than complex models for understanding key phenomena -- more complex models can be created as needed. (We should think about well-posedness of the problem as we develop the model.)\n",
    "\n",
    "**3.** Reduction\n",
    "\n",
    "To get to a solution, it is sometimes important to remove unnecessary terms in the model. One way to approach this is to non-dimensionalize the problem, in order to discover which terms are unusually large or unusually small (relative to other terms). This leads to asymptotic methods that we hear so much about.\n",
    "\n",
    "**4.** Analysis\n",
    "\n",
    "Analytic dissection is the process of breaking up a complicated model into various simpler components -- for instance, components that work at different time scales, or length scales. (For instance, in modeling ocean waves, you might distinguish between long, slow waves that travel large distances, and the smaller wavelets generated by gusts of wind.) Each individual component may represent a problem to be solved on its own, and then all the pieces brought together for a final model. In many cases, exact analytic solutions can be obtained for the component pieces, \n",
    "\n",
    "**5.** Computation\n",
    "\n",
    "Numerical computation can be used to solve the original problem, the component pieces, or to link together the results of the analysis of the component pieces. All are options, and all have their use in various modeling.\n",
    "\n",
    "**6.** Model validation\n",
    "\n",
    "The mathematical model must go back to the original problem, to see if the model and analysis explains the phenomena being studies. Do the computed data match the experimental data? Does predicted stability (or regions of stability) in the model match the observed stabiity of the process. Fowler make the point that the justification of the model is often that the various choices we made in developing the model are seen to work. "
   ]
  },
  {
   "cell_type": "markdown",
   "metadata": {},
   "source": [
    "## A sample model\n",
    "Fowler suggests a model to explain how traffic jams form. Specifically, we observe sometimes that traffic on a road slows to a crawl, with many cars packed together. It creeps along from a while, then the road clears and we rapidly go back to travelling at the speed limit. This is a weird phenomena -- there was nothing on the road to block the traffic, it just seemed to cluster up and slow down. \n",
    "\n",
    "For a simplified model, we do a continuous approximation. Imagine a straight length of road, with cars distributed on along the road. We define a function $\\rho = \\rho(x,t)$ to be the density of cars (say number of cars per meter of roadway -- this could be a fractional number), which varies with both position $x$ along the road, and time $t$. We assume all the cars at some point are moving with roughly the same velocity, which we denote by $v = v(x,t)$, a function that varies with both position and time. The flux $q=q(x,t)$ is the number of cars per second that pass through the point $x$ on the roadway, which can vary with the time $t$. Of course we have that flux is just the density times velocity, so\n",
    "$$q = v\\rho.$$\n",
    "\n",
    "Conservation of mass tells us that the total number of cars in an interval $[x_1, x_2]$ can only increase (or decrease) because of the flux of cars entering at point $x_1$ and exiting at point $x_2$. So the rate of change of the number of cars is equal to the difference of those fluxes. In integral form, this says:\n",
    "$$\\frac{\\partial}{\\partial t} \\int_{x_1}^{x_2} \\rho(x,t) \\, dx = q(x_1) - q(x_2) \n",
    "= -\\int_{x_1}^{x_2} \\frac{\\partial}{\\partial x} q(x,t) \\, dx.$$\n",
    "Bringing the derivatives inside, on any interval $[x_1,x_2]$ we have\n",
    "$$\\int_{x_1}^{x_2} \\frac{\\partial}{\\partial t}\\rho(x,t) + \n",
    "\\frac{\\partial}{\\partial x} q(x,t) \\, dx = 0,$$\n",
    "from which we conclude the integrand is zero. That we have the PDE\n",
    "$$ \\rho_t + q_x = 0.$$"
   ]
  },
  {
   "cell_type": "markdown",
   "metadata": {},
   "source": [
    "As it stands, we can't solve this equation because we don't have enough information. In partcular, we don't know what the velocity is. \n",
    "\n",
    "If $v$ were constant, this is easy enough to solve with a traveling wave solution,\n",
    "$$\\rho(x,t) = f(x - vt)$$\n",
    "where $f(x) = \\rho(x,0)$ is some initial distribution of cars along the roadway.\n",
    "\n",
    "If $v = v(x)$ is a function only of position (and not of time), an exact solution is also possible. (You should try it). This would correspond to a roadway with posted speed limits that are different at different spots on the road, and everyone follows the limit. You should look at that solution, and observe that it is something like a traveling wave again.\n",
    "\n",
    "These two models (constant velocity, or velocity as function of $x$) don't explain the traffic jam, though. "
   ]
  },
  {
   "cell_type": "markdown",
   "metadata": {},
   "source": [
    "## An aside. The $v(x)$ case.\n",
    "\n",
    "If you haven't done this before, you should think about it. The equation $\\rho_t  + q_x = 0$ does have a nice solution that generalizes the traveling wave solution $\\rho(x,t) = f(x-vt)$ in the case where $v=v(x)$ is a function of position $x$ only.\n",
    "\n",
    "Your first thought might be to something like this: $\\rho(x,t) = f(x-v(x)t)$, where we just put in the velocity in the obvious place. But, this doesn't work, as we then have\n",
    "$$q(x,t) = v(x)f(x-v(x)t),$$\n",
    "which will have a really complicated $x$ derivative. We want something simple. \n",
    "\n",
    "You might try \n",
    "$$\\rho(x,t) = f(S(x)-t)$$\n",
    "for some nice function $S(x$) as that also looks like a traveling wave, but it also doesn't work.\n",
    "\n",
    "An inspired guess would be to take\n",
    "$$q(x,t) = f(S(x)-t)$$\n",
    "because its x-derivative is $q_x = S'(x)f'(S(x)-t)$ which is nice and simple, and looks similar to the t-derivative of $\\rho = f(S(x)-t)/v(x)$, which is $f'(S(x)-t)/v(x)$. So given the velocity $v(x)$ we choose the function $S(x)$ to be the antiderivative of the slowness $s(x) = 1/v(x)$, and thus\n",
    "$$S(x) = \\int^x \\frac{1}{v(x')} dx'.$$\n",
    "\n",
    "This give the solution to the variable velocity case, with flux of cars\n",
    "$$q(x,t) = f(S(x)-t),$$\n",
    "and denstity of cars as\n",
    "$$\\rho(x,t) = f(S(x)-t)/v(x).$$\n",
    "\n",
    "Note that flux $q$ really does look like a traveling wave, while density $\\rho$ has its amplitude modulated by the velocity in the denominator. \n",
    "\n",
    "This begs the question: when solving for the problem, should we look for a nice form for $\\rho$, the original parameter in the problem? Or look for a nice form for $q$, the \"related\" parameter. The right answer, of course, is whatever works!"
   ]
  },
  {
   "cell_type": "markdown",
   "metadata": {},
   "source": [
    "## The traffic jam situation.\n",
    "\n",
    "Suppose, instead, that the velocity depends on the density $\\rho$. This is a hypothesized law, suggesting that car drivers will tend to go faster if there is a lot of space on the road, and will slow down if the density increases. (Think about how you drive in congested traffic -- if there are lots of cars, you have to slow down to give you enough stopping distance to feel safe.)\n",
    "\n",
    "A simple model for a situation like this would be a formula like\n",
    "$$ v = 1-\\rho, \\mbox{ where we assume density is between 0 and 1.}$$\n",
    "In this case, the flux is $q = \\rho(1-\\rho)$ and so the local wave speed is \n",
    "$$\\frac{dq}{d\\rho} = 1 - 2\\rho,$$\n",
    "which is positive or negative depending on whether the density is below or above $1/2$. \n",
    "\n",
    "The differential equation becomes\n",
    "$$\\rho_t + (1-2\\rho)\\rho_x = 0,$$\n",
    "which is non-linear, but simple enough that we can solve it numerically. (Maybe even analytically). What we do observe is that if at some point $x$ on the road, if $\\rho > 1/2, \\rho_x >0$, then the density will be increasing with time. While if $\\rho < 1/2, \\rho_x >0$, the density will be decreasing with time. This will tend to form a \"shock wave\" in the density of cars. That is, if there is a point on the road where the density passes from below 1/2 to above 1/2, the density before that point decreases, while the density after that point increases. This continues until you get the sharp shock wave. You car sees this as a transition into a very dense, slow moving region of cars, following by the clearing out of the road as you move into the rarified region after the shock. \n",
    "\n",
    "It's kind of a pain to insert a diagram in Jupyter. You might like to look at my Markdown code to see how to do it nicely. This image is copied from Fowler.\n",
    "\n",
    "<img src=\"images/Traffic.jpg\" alt=\"a traffic flow image\" width=\"600\"/>\n",
    "<center> Density of cars as the traffic flow evolves. </center>"
   ]
  },
  {
   "cell_type": "markdown",
   "metadata": {},
   "source": [
    "## Numerical experiments\n",
    "We might as well see if we can solve this numerically. It's a first order PDE, in only 2 variables, so it seems like it should be easy.\n",
    "\n",
    "Take the equation:\n",
    "$$ \\rho_t = (2\\rho-1)\\rho_x$$\n",
    "and solve it by time-stepping. The discrete time derivative\n",
    "$$\\frac{\\rho(x,t + \\Delta t) - \\rho(x,t)}{\\Delta t} = (2\\rho-1)\\rho_x(x,t)$$\n",
    "unravels into the time step formula:\n",
    "$$\\rho(x,t + \\Delta t) = \\rho(x,t) + (\\Delta t) (2\\rho-1)\\rho_x(x,t).$$\n",
    "\n",
    "We are in Julia, so we will need to load in PyPlot for our plots. The rest is easy."
   ]
  },
  {
   "cell_type": "code",
   "execution_count": null,
   "metadata": {},
   "outputs": [],
   "source": [
    "using PyPlot"
   ]
  },
  {
   "cell_type": "code",
   "execution_count": null,
   "metadata": {},
   "outputs": [],
   "source": [
    "# Let's set up some initial parameters to define the problem\n",
    "x0 = 0\n",
    "x1 = 10\n",
    "t0 = 0\n",
    "t1 = 10\n",
    "Nx = 100\n",
    "Nt = 1000\n",
    "dx = (x1-x0)/Nx\n",
    "dt = (t1-t0)/Nt\n",
    "x = linspace(x0,x1,Nx)\n",
    "t = linspace(t0,t1,Nt)"
   ]
  },
  {
   "cell_type": "code",
   "execution_count": null,
   "metadata": {},
   "outputs": [],
   "source": [
    "# We now set up the solution matrix\n",
    "# and include some initial values for rho (as a Gaussian).\n",
    "# Then we solve via time stepping\n",
    "\n",
    "p = zeros(Nx,Nt)\n",
    "px = zeros(Nx,1)  # this will be the x derivative, computed by central differences\n",
    "p[:,1] = p0 = .7*exp(-(x-5).^2/1^2) # The initial density at time zero\n",
    "for k in 1:(Nt-1)\n",
    "    px[2:(Nx-1)] = (p[3:Nx,k]-p[1:(Nx-2),k])/(2*dx)\n",
    "    p[:,k+1] = p[:,k] + dt*(2*p[:,k]-1).*px\n",
    "end"
   ]
  },
  {
   "cell_type": "code",
   "execution_count": null,
   "metadata": {},
   "outputs": [],
   "source": [
    "# We plot a few curves as time advances. Time t=0 is amplified, so we see where we start.\n",
    "plot(x,1.1*p[:,1],x,p[:,25],x,p[:,50],x,p[:,75],x,p[:,100])"
   ]
  },
  {
   "cell_type": "markdown",
   "metadata": {},
   "source": [
    "Do some experients with this code\n",
    "- adjust the size of the Gaussian (height, width)\n",
    "- heights that go over 1/2 seem to be important, according to Fowler. Verify. \n",
    "- for small heights, we should see a wave propagating. Verify. Check the speed. Verify the direction.\n",
    "- Note that Michael found an error in his code using these simple tests. Tests are important!\n",
    "- is the code stable? What happens for large values of the time index?"
   ]
  },
  {
   "cell_type": "markdown",
   "metadata": {},
   "source": [
    "## Buckingham Pi Theorem\n",
    "This is a precise statement of how and when we can non-dimensionlize a problem, and even how we can deduce an answer to some aspect of a physical problem, from the given parameters without a long calculation. It is a formalization of the procedures we saw in the examples above.\n",
    "\n",
    "## Statement of Buckingham Pi Theorem\n",
    "Suppose we have a physical model with $n$ physical variables and parameters, \n",
    "$$Q_1, Q_2, \\ldots, Q_n $$\n",
    "in $r$ independent basic phyiscal dimensions (like length, time, etc).\n",
    "\n",
    "Then we can find $k = n-r$ independent dimensionless combinations of the physical parameters, say\n",
    "$$\\Pi_1, \\Pi_2, \\ldots, \\Pi_k$$\n",
    "where each $\\Pi_j$ is a product of powers of the $Q_i$'s. \n",
    "\n",
    "Moverover, if the solution of hte model gives one variable $Q_n$ in terms of the others, say\n",
    "$$Q_n = f(Q_1, Q_2, \\ldots, Q_{n-1}),$$\n",
    "then there is a function $g$ with\n",
    "$$\\Pi_k = g(\\Pi_1, \\Pi_2, \\ldots, \\Pi_{k-1}),$$\n",
    "perhaps with some re-ordiner of the vairables.\n",
    "\n",
    "## Proof\n",
    "The core of the proof is the rank theorem. If you have a $r\\times n$ matrix in general form (i.e. with full rank), then the dimension of its null space is $k=n-r$. So this theorem really should have some conditions on it to ensure the given matrix is of full rank. So you might want to think about you would impose such a condition on your selection of physical parameters. (Apparently they need some kind of independence.) \n",
    "\n",
    "The idea then is to create a $r \\times n$ matrix $M$ which expresses the relationship between the variables $Q_1, \\ldots, Q_n$ and the basic physical dimensions (call them $D_1, D_2, \\ldots D_r$). Specifically, the  entries $M_{ij}$ of the matrix $M$ are given by expressing the units of each $Q_j$ in terms of powers of the physical units, so\n",
    "$$[Q_j] = [D_1]^{M_{1j}} [D_2]^{M_{2j}} \\ldots [D_r]^{M_{2r}}.$$\n",
    "To find a dimensionless parameter $\\Pi$, we want to write it as a product of powers\n",
    "$$\\Pi = Q_1^{a_1} Q_2^{a_2} \\ldots Q_n^{a_n},$$\n",
    "with the condition that\n",
    "$$M a = 0.$$\n",
    "Since the kernel of $M$ has dimension $k=n-r$, we can find exactly $k$ linearly independent vectors $a$ to solve this problem. Each one of these $a$ gives an independent, dimensionless variable $\\Pi_i$. \n",
    "\n",
    "Note that we typically have integer entries for $M$, so vectors in the kernel can be scaled to rationals. (That is, we solve the matrix equation over the field of rationals.) Then bringing to a common denomiator, we can rescale the vectors $a$ to be integer-valued. \n",
    "\n",
    "As for solving for one parameter in terms of the other, if the physical system has a solution, we can write it as the solution to some equation\n",
    "$$0 = F(Q_1, Q_2, \\ldots, Q_n),$$\n",
    "for some function $F$. Changing variables to the $k$ independent, dimensionless variables, we get an equivalent equations\n",
    "$$0 = G(\\Pi_1, \\Pi_2, \\ldots, \\Pi_k).$$\n",
    "Using the inverse function theorem, we can solve for one variable in terms of the other, as\n",
    "$$\\Pi_k = g(\\Pi_1, \\Pi_2, \\ldots, \\Pi_{k-1}).$$\n",
    "\n",
    "That's it for the \"proof.\" Now go wash your hands because that was a very dirty proof with lots of assumptions about math (e.g. when can we use the inverse function theorem? What does it mean for parameters to be independent?) and the physics (what does it mean to solve?) that I don't really know how one can justify!"
   ]
  },
  {
   "cell_type": "markdown",
   "metadata": {},
   "source": [
    "### Example using the Buckinham Pi theorem\n",
    "Take a simple pendulum of length $L$, mass $m$, under gravity of magnitue $g$, and for small oscillations, we assume it has a period of time length $T$. Here we have $n=4$ physical parameters ($L,m,g,T$), and $r=3$ units of dimension (mass, time and length). So we expect $k=1$ dimensionless parameter to describe the problem. We could guess it, but lets use this matrix method. Here, we express the units of $T,m,L,g$ in terms of powers of the basic dimensions, so \n",
    "$$\n",
    "\\begin{array}{ccccc} T&m&L&g&\\qquad\\qquad \\end{array}  \\\\\n",
    "\\begin{array}{ccccc}\n",
    "1&0&0&-2&\\mbox{time unit}\\\\\n",
    "0&1&0&0&\\mbox{mass unit}\\\\\n",
    "0&0&1&1&\\mbox{length unit}\n",
    "\\end{array}  $$\n",
    "This gives our matrix\n",
    "$$M = \n",
    "\\left[\\begin{array}{cccc}\n",
    "1&0&0&-2\\\\\n",
    "0&1&0&0\\\\\n",
    "0&0&1&1\n",
    "\\end{array} \\right] $$\n",
    "and we easily find one independent vector in the kernel as\n",
    "$$ \\mathbf{a} = \n",
    "\\left[\n",
    "\\begin{array}{c}\n",
    "2\\\\\n",
    "0\\\\\n",
    "-1\\\\\n",
    "1\n",
    "\\end{array}\n",
    "\\right].\n",
    "$$\n",
    "This gives us immediately our dimensionless parameter\n",
    "$$\\Pi = T^2m^0L^{-1}g^1 = \\frac{gT^2}{L}.$$\n",
    "Since there is only the one parameter, the physical problem must be solved in general as\n",
    "$$\\frac{gT^2}{L} = k^2, \\mbox{ a constant }.$$\n",
    "\n",
    "We don't know (yet) what this constant is, but we can now solve for $T$ in terms of the other physical parameters, so\n",
    "$$ T = k\\sqrt{\\frac{L}{g}},$$\n",
    "which already tells us a lot. For instance, the period $T$ is independent of the mass $m$. Doubling the length increases the period by only $\\sqrt{2}$. Doubling the force of gravity decreases the period by $\\sqrt{2}$ (i.e. the pendulum swings faster.) Apparently Newton used this fact to show that the earth is not a perfect sphere. (As you get closer to the north pole, gravity increases slightly because the radial distance to the centre of the earth is getting smaller. Cederic Villani states that this was measured with a pendulum!) A careful experiment, or an exact solution to the linearized ODE for the problem will find that in fact $k=2\\pi$, so \n",
    "$$ T = 2\\pi\\sqrt{\\frac{L}{g}}.$$\n",
    "\n",
    "For instance, with a meter long pendulum, and $g = 9.81 m/s$, we find $T = 2.006 $ seconds. Which might be useful to know some day. A Royal pendulum has a length of $.994$ meters, which gives a half-period of almost exactly one second. \n",
    "\n"
   ]
  },
  {
   "cell_type": "code",
   "execution_count": null,
   "metadata": {
    "collapsed": true
   },
   "outputs": [],
   "source": []
  }
 ],
 "metadata": {
  "kernelspec": {
   "display_name": "Julia 0.5.2",
   "language": "julia",
   "name": "julia-0.5"
  },
  "language_info": {
   "file_extension": ".jl",
   "mimetype": "application/julia",
   "name": "julia",
   "version": "0.5.2"
  }
 },
 "nbformat": 4,
 "nbformat_minor": 1
}
