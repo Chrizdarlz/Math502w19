{
 "cells": [
  {
   "cell_type": "markdown",
   "metadata": {},
   "source": [
    "# <center> Math 502, Winter 2019 </center>\n",
    "\n",
    "## <center> Instructor: M. Lamoureux </center>\n",
    "\n",
    "## <center> Lecture 6 - January 29 </center>"
   ]
  },
  {
   "cell_type": "markdown",
   "metadata": {},
   "source": [
    "We actually did the second half of the notes in Lecture 5:\n",
    "\n",
    "- [Lecture05_PhysicalModeling.ipynb](Lecture05_PhysicalModeling.ipynb)  January 24\n",
    "\n",
    "You should go back and read all that."
   ]
  },
  {
   "cell_type": "code",
   "execution_count": null,
   "metadata": {},
   "outputs": [],
   "source": []
  }
 ],
 "metadata": {
  "kernelspec": {
   "display_name": "Python 3",
   "language": "python",
   "name": "python3"
  },
  "language_info": {
   "codemirror_mode": {
    "name": "ipython",
    "version": 3
   },
   "file_extension": ".py",
   "mimetype": "text/x-python",
   "name": "python",
   "nbconvert_exporter": "python",
   "pygments_lexer": "ipython3",
   "version": "3.6.7"
  }
 },
 "nbformat": 4,
 "nbformat_minor": 2
}
